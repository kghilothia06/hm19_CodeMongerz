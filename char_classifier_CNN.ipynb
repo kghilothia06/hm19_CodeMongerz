{
 "cells": [
  {
   "cell_type": "markdown",
   "metadata": {
    "ein.tags": "worksheet-0",
    "slideshow": {
     "slide_type": "-"
    }
   },
   "source": [
    "# Training: CNN - Char Classifier\n",
    "Training CNN (convolutional neural network) for char classification"
   ]
  },
  {
   "cell_type": "code",
   "execution_count": 1,
   "metadata": {
    "autoscroll": false,
    "ein.tags": "worksheet-0",
    "slideshow": {
     "slide_type": "-"
    }
   },
   "outputs": [
    {
     "name": "stderr",
     "output_type": "stream",
     "text": [
      "/home/breta/anaconda3/lib/python3.6/importlib/_bootstrap.py:219: RuntimeWarning: numpy.dtype size changed, may indicate binary incompatibility. Expected 96, got 88\n",
      "  return f(*args, **kwds)\n"
     ]
    }
   ],
   "source": [
    "import sys\n",
    "import numpy as np\n",
    "import pandas as pd\n",
    "import matplotlib.pyplot as plt\n",
    "import tensorflow as tf\n",
    "import cv2\n",
    "import glob\n",
    "import csv\n",
    "\n",
    "from IPython.display import clear_output, Image, display, HTML\n",
    "\n",
    "sys.path.append('src')\n",
    "from ocr.datahelpers import load_chars_data, corresponding_shuffle\n",
    "from ocr.helpers import implt\n",
    "from ocr.mlhelpers import TrainingPlot, DataSet\n",
    "from ocr.imgtransform import coordinates_remap\n",
    "\n",
    "%matplotlib notebook\n",
    "plt.rcParams['figure.figsize'] = (9.0, 5.0)"
   ]
  },
  {
   "cell_type": "markdown",
   "metadata": {
    "ein.tags": "worksheet-0",
    "slideshow": {
     "slide_type": "-"
    }
   },
   "source": [
    "### Global Variables"
   ]
  },
  {
   "cell_type": "code",
   "execution_count": 2,
   "metadata": {
    "autoscroll": false,
    "ein.tags": "worksheet-0",
    "slideshow": {
     "slide_type": "-"
    }
   },
   "outputs": [],
   "source": [
    "LANG = 'en'\n",
    "CLAS = 83 if LANG =='cz' else 53"
   ]
  },
  {
   "cell_type": "markdown",
   "metadata": {
    "collapsed": true,
    "ein.tags": "worksheet-0",
    "slideshow": {
     "slide_type": "-"
    }
   },
   "source": [
    "## Load Images and Lables in CSV"
   ]
  },
  {
   "cell_type": "code",
   "execution_count": 3,
   "metadata": {
    "autoscroll": false,
    "ein.tags": "worksheet-0",
    "slideshow": {
     "slide_type": "-"
    }
   },
   "outputs": [],
   "source": [
    "def sofmax_labels(lab, clas):\n",
    "    \"\"\" Transform labels for sofmax classification \"\"\"\n",
    "    newLab = np.zeros((len(lab), clas), dtype=np.int8)\n",
    "    for i in range(len(lab)):\n",
    "        newLab[i][int(lab[i][0])] = 1\n",
    "    return newLab"
   ]
  },
  {
   "cell_type": "code",
   "execution_count": null,
   "metadata": {
    "autoscroll": false,
    "ein.tags": "worksheet-0",
    "slideshow": {
     "slide_type": "-"
    }
   },
   "outputs": [
    {
     "name": "stdout",
     "output_type": "stream",
     "text": [
      "Loading chars...\n",
      "Loading words...\n",
      " |████████████████████████████████████████| 100.0% \n",
      "-> Number of words: 5069\n",
      "Loaded chars from words: 22883\n",
      " |████████████████████████████████████████| 100.0% \n",
      "-> Number of chars: 22883\n"
     ]
    }
   ],
   "source": [
    "images, labels = load_chars_data(\n",
    "    charloc='',\n",
    "    wordloc='data/processed/breta/words_gaplines/',\n",
    "    lang=LANG)\n",
    "labels = np.reshape(labels, (len(labels), 1))\n",
    "labels = sofmax_labels(labels, CLAS)\n",
    "\n",
    "# Splitting into train and test data\n",
    "images, labels = corresponding_shuffle([images, labels])\n",
    "\n",
    "div = int(0.85 * len(images))\n",
    "\n",
    "# Transform labels for sofmax output\n",
    "\n",
    "\n",
    "trainData = images[0:div]\n",
    "evalData = images[div:]\n",
    "\n",
    "trainLabels = llabels[0:div]\n",
    "evalLabels = llabels[div:]\n",
    "\n",
    "print(\"Training images: %g\" % div)"
   ]
  },
  {
   "cell_type": "markdown",
   "metadata": {},
   "source": [
    "### Dataset extending"
   ]
  },
  {
   "cell_type": "code",
   "execution_count": null,
   "metadata": {},
   "outputs": [],
   "source": [
    "num_new_data = 0 # Dont generate any images\n",
    "fac_alpha = 1.5\n",
    "fac_sigma = 0.07\n",
    "\n",
    "# Dont mix train and test images\n",
    "trainData_ext = np.zeros((trainData.shape[0] * (num_new_data+1), trainData.shape[1]), dtype=np.float32)\n",
    "trainLabels_ext = np.zeros((trainLabels.shape[0] * (num_new_data+1), trainLabels.shape[1]), dtype=np.float32)\n",
    "\n",
    "for idx, img in enumerate(trainData):\n",
    "    trainData_ext[idx*(num_new_data+1)] = img\n",
    "    trainLabels_ext[idx*(num_new_data+1)] = trainLabels[idx]\n",
    "    img = np.reshape(img, (64, 64))\n",
    "    \n",
    "    for i in range(num_new_data):\n",
    "        trainData_ext[idx*(num_new_data+1) + (i+1)] = coordinates_remap(img, fac_alpha, fac_sigma).flatten()\n",
    "        trainLabels_ext[idx*(num_new_data+1) + (i+1)] = trainLabels[idx]\n",
    "        \n",
    "trainData = trainData_ext\n",
    "trainLabels = trainLabels_ext\n",
    "print(\"Transformed train images\", len(trainData))"
   ]
  },
  {
   "cell_type": "markdown",
   "metadata": {
    "ein.tags": "worksheet-0",
    "slideshow": {
     "slide_type": "-"
    }
   },
   "source": [
    "# Create classifier"
   ]
  },
  {
   "cell_type": "markdown",
   "metadata": {
    "ein.tags": "worksheet-0",
    "slideshow": {
     "slide_type": "-"
    }
   },
   "source": [
    "### Datasets"
   ]
  },
  {
   "cell_type": "code",
   "execution_count": null,
   "metadata": {
    "autoscroll": false,
    "ein.tags": "worksheet-0",
    "slideshow": {
     "slide_type": "-"
    }
   },
   "outputs": [],
   "source": [
    "trainSet = DataSet(trainData, trainLabels)\n",
    "testSet = DataSet(evalData, evalLabels)"
   ]
  },
  {
   "cell_type": "markdown",
   "metadata": {
    "ein.tags": "worksheet-0",
    "slideshow": {
     "slide_type": "-"
    }
   },
   "source": [
    "## Convulation Neural Network"
   ]
  },
  {
   "cell_type": "markdown",
   "metadata": {
    "ein.tags": "worksheet-0",
    "slideshow": {
     "slide_type": "-"
    }
   },
   "source": [
    "### Graph"
   ]
  },
  {
   "cell_type": "code",
   "execution_count": null,
   "metadata": {
    "autoscroll": false,
    "ein.tags": "worksheet-0",
    "slideshow": {
     "slide_type": "-"
    }
   },
   "outputs": [],
   "source": [
    "tf.reset_default_graph()\n",
    "sess = tf.InteractiveSession()\n",
    "\n",
    "# Functions for initializing convulation and pool layers\n",
    "def conv2d(x, W, name=None):\n",
    "    return tf.nn.conv2d(x, W, strides=[1, 1, 1, 1], padding='SAME', name=name)\n",
    "\n",
    "def conv2d2(x, W, name=None):\n",
    "    return tf.nn.conv2d(x, W, strides=[1, 2, 2, 1], padding='SAME', name=name)\n",
    "\n",
    "def max_pool_2x2(x, name=None):\n",
    "    return tf.nn.max_pool(x, ksize=[1, 2, 2, 1], strides=[1, 2, 2, 1], padding='SAME', name=name)\n",
    "\n",
    "def inception2d(x, in_channels, filter_count):\n",
    "    mu = 0\n",
    "    sigma = 0.1\n",
    "    # 1x1\n",
    "    one_filter = tf.get_variable('one_filter',shape=[1, 1, in_channels, filter_count],\n",
    "                                 initializer=tf.contrib.layers.xavier_initializer(),\n",
    "                                 regularizer=tf.contrib.layers.l2_regularizer(scale=SCALE))\n",
    "    one_bias = tf.Variable(tf.constant(0.2, shape=[filter_count]), name='one_bias')\n",
    "    one_by_one = conv2d(x, one_filter) + one_bias\n",
    "\n",
    "    # 3x3\n",
    "    three_filter = tf.get_variable('three_filter', shape=[3, 3, in_channels, filter_count],\n",
    "                                   initializer=tf.contrib.layers.xavier_initializer(),\n",
    "                                   regularizer=tf.contrib.layers.l2_regularizer(scale=SCALE))\n",
    "    three_bias = tf.Variable(tf.constant(0.2, shape=[filter_count]), name='three_bias')\n",
    "    three_by_three = conv2d(x, three_filter) + three_bias\n",
    "\n",
    "    # 5x5\n",
    "    five_filter = tf.get_variable('five_filter', shape=[5, 5, in_channels, filter_count],\n",
    "                                  initializer=tf.contrib.layers.xavier_initializer(),\n",
    "                                  regularizer=tf.contrib.layers.l2_regularizer(scale=SCALE))\n",
    "    five_bias = tf.Variable(tf.constant(0.2, shape=[filter_count]), name='five_bias')\n",
    "    five_by_five = conv2d(x, five_filter) + five_bias\n",
    "\n",
    "    # avg pooling\n",
    "    pooling = tf.nn.max_pool(x, ksize=[1, 3, 3, 1], strides=[1, 1, 1, 1], padding='SAME')\n",
    "\n",
    "    x = tf.concat([one_by_one, three_by_three, five_by_five, pooling], axis=3)  # Concat in the 4th dim to stack\n",
    "    return tf.nn.relu(x)\n",
    "\n",
    "\n",
    "# Regularization scale - FOR TWEAKING\n",
    "SCALE = 0.001\n",
    "\n",
    "# Place holders for data (x) and labels (y_)\n",
    "x = tf.placeholder(tf.float32, [None, 4096], name='x')\n",
    "y_ = tf.placeholder(tf.float32, [None, CLAS], name='y_')\n",
    "\n",
    "# Reshape data\n",
    "reshape_images = tf.reshape(x, [-1, 64, 64, 1])\n",
    "\n",
    "# Image standardization\n",
    "x_image = tf.map_fn(\n",
    "    lambda img: tf.image.per_image_standardization(img), reshape_images)\n",
    "\n",
    "\n",
    "# 1. Layer - Convulation + Subsampling\n",
    "W_conv1 = tf.get_variable('W_conv1', shape=[16, 16, 1, 4],\n",
    "                          initializer=tf.contrib.layers.xavier_initializer())\n",
    "b_conv1 = tf.Variable(tf.constant(0.1, shape=[4]), name='b_conv1')\n",
    "\n",
    "h_conv1 = tf.nn.relu(conv2d2(x_image, W_conv1) + b_conv1, name='h_conv1')    \n",
    "\n",
    "# 2. Layer - Max Pool\n",
    "h_pool1 = max_pool_2x2(h_conv1, name='h_pool1')    \n",
    "\n",
    "# 3. Inception\n",
    "with tf.variable_scope(\"inception1\") as scope:\n",
    "    incept1 = inception2d(h_pool1, 4, 12)\n",
    "    \n",
    "# 4. Inception\n",
    "with tf.variable_scope(\"inception2\") as scope:\n",
    "    incept2 = inception2d(incept1, 40, 20)\n",
    "\n",
    "# 5. Layer - Max Pool\n",
    "h_pool3 = max_pool_2x2(incept2, name='h_pool3')\n",
    "\n",
    "# Reshape filters into flat arraty\n",
    "h_flat = tf.reshape(h_pool3, [-1, 8*8*100], name='h_flat')\n",
    "\n",
    "# 6. Dropout\n",
    "keep_prob = tf.placeholder(tf.float32, name='keep_prob')\n",
    "h_flat_drop = tf.nn.dropout(h_flat, keep_prob, name='h_flat_drop')\n",
    "\n",
    "# 9. Output layer\n",
    "W_fc1 = tf.get_variable('W_fc2', shape=[8*8*100, CLAS],\n",
    "                        initializer=tf.contrib.layers.xavier_initializer(),\n",
    "                        regularizer=tf.contrib.layers.l2_regularizer(scale=SCALE))\n",
    "b_fc1 = tf.Variable(tf.constant(0.1, shape=[CLAS]), name='b_fc2')\n",
    "\n",
    "y_conv = tf.matmul(h_flat_drop, W_fc1) + b_fc1\n",
    "\n",
    "y_conv_out = tf.identity(tf.matmul(h_flat, W_fc1) + b_fc1, name='y_conv')\n",
    "y_conv_softmax = tf.nn.softmax(y_conv_out, axis=1, name='y_conv_softmax')\n",
    "\n",
    "\n",
    "# Creating activation function for using the model when imported\n",
    "activation = tf.argmax(y_conv_out, 1, name='activation')\n",
    "\n",
    "\n",
    "# Cost: cross entropy + regularization\n",
    "# Regularization with L2 Regularization with decaying learning rate\n",
    "cross_entropy = tf.nn.softmax_cross_entropy_with_logits(logits=y_conv, labels=y_)\n",
    "regularization = tf.get_collection(tf.GraphKeys.REGULARIZATION_LOSSES)\n",
    "cost = tf.reduce_mean(cross_entropy) + sum(regularization)\n",
    "\n",
    "\n",
    "# Optimizing model parametrs\n",
    "train_step = tf.train.AdamOptimizer(1e-4).minimize(cost, name='train_step')\n",
    "\n",
    "\n",
    "# Measuring accuracy of model\n",
    "correct_prediction = tf.equal(tf.argmax(y_conv, 1), tf.argmax(y_, 1))\n",
    "accuracy = tf.reduce_mean(tf.cast(correct_prediction, tf.float32))"
   ]
  },
  {
   "cell_type": "markdown",
   "metadata": {
    "ein.tags": "worksheet-0",
    "slideshow": {
     "slide_type": "-"
    }
   },
   "source": [
    "### Training"
   ]
  },
  {
   "cell_type": "code",
   "execution_count": null,
   "metadata": {
    "autoscroll": false,
    "ein.tags": "worksheet-0",
    "slideshow": {
     "slide_type": "-"
    }
   },
   "outputs": [],
   "source": [
    "sess.run(tf.global_variables_initializer())\n",
    "saver = tf.train.Saver()\n",
    "\n",
    "# Set the logs writer to the folder and save graph for Tensorboard\n",
    "summary_writer = tf.summary.FileWriter('logs', sess.graph)\n",
    "\n",
    "### SETTINGS  ###\n",
    "TRAIN_STEPS = 1000000\n",
    "TEST_ITER = 150\n",
    "COST_ITER = 50\n",
    "SAVE_ITER = 2000\n",
    "BATCH_SIZE = 64\n",
    "\n",
    "# Creat plot for live stats ploting\n",
    "trainPlot = TrainingPlot(TRAIN_STEPS, TEST_ITER, COST_ITER)\n",
    "\n",
    "try:\n",
    "    for i in range(TRAIN_STEPS):\n",
    "        trainBatch, labelBatch = trainSet.next_batch(BATCH_SIZE)\n",
    "\n",
    "\n",
    "        if i%COST_ITER == 0:\n",
    "            # Plotting cost\n",
    "            tmpCost = cost.eval(feed_dict={x: trainBatch, y_: labelBatch, keep_prob: 1.0})\n",
    "            trainPlot.updateCost(tmpCost, i // COST_ITER)\n",
    "\n",
    "        if i%TEST_ITER == 0:\n",
    "            # Plotting accuracy\n",
    "            evalData_, evalLabels_ = testSet.next_batch(200)\n",
    "            accEval = accuracy.eval(feed_dict={x: evalData_, y_: evalLabels_, keep_prob: 1.0})\n",
    "            accTrain = accuracy.eval(feed_dict={x: trainBatch, y_: labelBatch, keep_prob: 1.0})\n",
    "            trainPlot.updateAcc(accEval, accTrain, i // TEST_ITER)\n",
    "\n",
    "        if i%SAVE_ITER == 0:\n",
    "            saver.save(sess, 'models/char-clas/' + LANG + '/CharClassifier')\n",
    "\n",
    "        train_step.run(feed_dict={x: trainBatch, y_: labelBatch, keep_prob: 0.4})\n",
    "        \n",
    "except KeyboardInterrupt:\n",
    "    print(\"Kernel interrupted, saving model...\")\n",
    "\n",
    "    \n",
    "# Final Save\n",
    "saver.save(sess, 'models/char-clas/' + LANG + '/CharClassifier')\n",
    "evalData_, evalLabels_ = testSet.next_batch(1000)\n",
    "print(\"Accuracy %g\" % accuracy.eval(feed_dict={x: evalData_, y_: evalLabels_, keep_prob: 1.0}))"
   ]
  }
 ],
 "metadata": {
  "kernelspec": {
   "display_name": "Python 3",
   "language": "python",
   "name": "python3"
  },
  "language_info": {
   "codemirror_mode": {
    "name": "ipython",
    "version": 3
   },
   "file_extension": ".py",
   "mimetype": "text/x-python",
   "name": "python",
   "nbconvert_exporter": "python",
   "pygments_lexer": "ipython3",
   "version": "3.6.6"
  },
  "name": "CharClassifier.ipynb"
 },
 "nbformat": 4,
 "nbformat_minor": 1
}
